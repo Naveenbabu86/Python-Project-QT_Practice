{
 "cells": [
  {
   "cell_type": "code",
   "execution_count": 2,
   "id": "4002d899",
   "metadata": {},
   "outputs": [],
   "source": [
    "l = [\"Ramu\",1,\"Naveen\"]\n",
    "l.append(\"Raju\")"
   ]
  },
  {
   "cell_type": "code",
   "execution_count": 3,
   "id": "2d167db8",
   "metadata": {},
   "outputs": [],
   "source": [
    "l.append(\"Jeevan\")"
   ]
  },
  {
   "cell_type": "code",
   "execution_count": 5,
   "id": "2348eea5",
   "metadata": {},
   "outputs": [
    {
     "data": {
      "text/plain": [
       "[7, 6, 45]"
      ]
     },
     "execution_count": 5,
     "metadata": {},
     "output_type": "execute_result"
    }
   ],
   "source": [
    "l = [10,20,3,45,6,7,3,4,8]\n",
    "l[5:2:-1]"
   ]
  },
  {
   "cell_type": "code",
   "execution_count": null,
   "id": "98d5d7d6",
   "metadata": {},
   "outputs": [],
   "source": []
  },
  {
   "cell_type": "code",
   "execution_count": 9,
   "id": "be75e79d",
   "metadata": {},
   "outputs": [
    {
     "name": "stdout",
     "output_type": "stream",
     "text": [
      "{1: 4, 2: 2, 3: 1, 4: 4}\n"
     ]
    }
   ],
   "source": [
    "data = [1,1,1,1,2,2,3,4,4,4,4]\n",
    "\n",
    "count_dict = {}\n",
    "\n",
    "for item in data:\n",
    "    if item in count_dict:\n",
    "        count_dict[item] += 1\n",
    "    else:\n",
    "        count_dict[item] = 1\n",
    "\n",
    "print(count_dict)\n"
   ]
  },
  {
   "cell_type": "code",
   "execution_count": 10,
   "id": "df70fb8b",
   "metadata": {},
   "outputs": [
    {
     "data": {
      "text/plain": [
       "Counter({1: 4, 4: 4, 2: 2, 3: 1})"
      ]
     },
     "execution_count": 10,
     "metadata": {},
     "output_type": "execute_result"
    }
   ],
   "source": [
    "from collections import Counter\n",
    "Counter(data)"
   ]
  },
  {
   "cell_type": "code",
   "execution_count": 12,
   "id": "014e41e3",
   "metadata": {},
   "outputs": [
    {
     "name": "stdout",
     "output_type": "stream",
     "text": [
      "233168\n"
     ]
    }
   ],
   "source": [
    "def sum_natural_numbers(num:int) -> int:\n",
    "    \"\"\"caluclate the sum of all natural numbers below 1000\n",
    "\n",
    "    Args:\n",
    "        num (int): integer\n",
    "\n",
    "    Returns:\n",
    "        int: integer\n",
    "    \"\"\"\n",
    "    result = 0\n",
    "    for i in range(1,num):\n",
    "        if i%3 == 0 or i%5 == 0:\n",
    "            result += i\n",
    "    return result\n",
    "print(sum_natural_numbers(1000))\n"
   ]
  },
  {
   "cell_type": "code",
   "execution_count": 3,
   "id": "7b1111d6",
   "metadata": {},
   "outputs": [
    {
     "name": "stdout",
     "output_type": "stream",
     "text": [
      "{3: 3, 4: 1, 5: 1, 7: 1, 8: 2}\n"
     ]
    }
   ],
   "source": [
    "l = [3,4,5,3,3,7,8,8]\n",
    "dict = {}\n",
    "for items in l:\n",
    "    if items in dict:\n",
    "        dict[items] += 1\n",
    "    else:\n",
    "        dict[items] = 1\n",
    "print(dict)"
   ]
  },
  {
   "cell_type": "code",
   "execution_count": null,
   "id": "dab39a6e",
   "metadata": {},
   "outputs": [],
   "source": []
  },
  {
   "cell_type": "code",
   "execution_count": 5,
   "id": "436a0377",
   "metadata": {},
   "outputs": [
    {
     "name": "stdout",
     "output_type": "stream",
     "text": [
      "{'Play': 100.0, 'Dance': 500.0, 'Health': 200.0}\n"
     ]
    }
   ],
   "source": [
    "dict1 = {}\n",
    "count = 0\n",
    "while True:\n",
    "    category = input(\"Enter the category\")\n",
    "    if category == \"exit\":\n",
    "        break\n",
    "    expence = float(input(\"Enter the expence\"))\n",
    "    if category != \"\":\n",
    "        dict1[category] = expence\n",
    "        count += 1\n",
    "    else:\n",
    "        dict1[category] = dict1[category]+expence\n",
    "        count += 1\n",
    "print(dict1)\n"
   ]
  },
  {
   "cell_type": "code",
   "execution_count": 3,
   "id": "b26d6692",
   "metadata": {},
   "outputs": [
    {
     "name": "stdout",
     "output_type": "stream",
     "text": [
      "{'i': 1, 'am': 1, 'driving': 1, 'the': 2, 'car': 3, 'that': 1, 'has': 1, 'four': 2, 'wheels,': 1, 'those': 1, 'wheel': 1, 'good': 1, 'for': 1}\n"
     ]
    }
   ],
   "source": [
    "dict = {}\n",
    "sentence = input(\"Enter the sentence\")\n",
    "for word in sentence.split():\n",
    "    if word in dict:\n",
    "        dict[word] = dict[word]+1\n",
    "    else:\n",
    "        dict[word] = 1\n",
    "print(dict)\n",
    "\n"
   ]
  }
 ],
 "metadata": {
  "kernelspec": {
   "display_name": "Python 3",
   "language": "python",
   "name": "python3"
  },
  "language_info": {
   "codemirror_mode": {
    "name": "ipython",
    "version": 3
   },
   "file_extension": ".py",
   "mimetype": "text/x-python",
   "name": "python",
   "nbconvert_exporter": "python",
   "pygments_lexer": "ipython3",
   "version": "3.13.7"
  }
 },
 "nbformat": 4,
 "nbformat_minor": 5
}
